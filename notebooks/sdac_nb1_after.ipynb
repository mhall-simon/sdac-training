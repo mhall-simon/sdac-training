{
  "nbformat": 4,
  "nbformat_minor": 0,
  "metadata": {
    "kernelspec": {
      "display_name": "Python 3 (Spyder)",
      "language": "python3",
      "name": "python3"
    },
    "language_info": {
      "codemirror_mode": {
        "name": "ipython",
        "version": 3
      },
      "file_extension": ".py",
      "mimetype": "text/x-python",
      "name": "python",
      "nbconvert_exporter": "python",
      "pygments_lexer": "ipython3",
      "version": "3.8.3"
    },
    "colab": {
      "name": "sdac-nb1-before.ipynb",
      "provenance": [],
      "collapsed_sections": []
    }
  },
  "cells": [
    {
      "cell_type": "markdown",
      "metadata": {
        "id": "qP3g3DoEgqZV"
      },
      "source": [
        "# **Python Training with SDAC**\r\n"
      ]
    },
    {
      "cell_type": "markdown",
      "metadata": {
        "id": "Er0Ay1BV8gBP"
      },
      "source": [
        "## **Introduction**\n",
        "\n",
        "**Presented By: Matthew Hall**\n",
        "\n",
        "Connect on LinkedIn: https://www.linkedin.com/in/matthew-hall-nyc/\n",
        "\n",
        "My Website (Currently Being Redone): http://learningdata.io/"
      ]
    },
    {
      "cell_type": "markdown",
      "metadata": {
        "id": "tpY-kM_PpNDl"
      },
      "source": [
        "## **Syllabus for the Day**\r\n"
      ]
    },
    {
      "cell_type": "markdown",
      "metadata": {
        "id": "9Ep-ooAs8gBU"
      },
      "source": [
        "\n",
        "### **Syllabus: Foundations of Python for Data Science**\n",
        "\n",
        "- [ ] Module 1: Fundamentals of Python\n",
        " - [ ] Core Mathematical Operators\n",
        " - [ ] Getting Output from Python\n",
        " - [ ] Comments in Code\n",
        " - [ ] Modules & Packages\n",
        "- [ ] Module 2: Data Types & Structures\n",
        " - [ ] Strings\n",
        " - [ ] Numbers\n",
        " - [ ] Boolean Values\n",
        " - [ ] Lists & **Indexing**\n",
        "- [ ] Module 3: Functions & Program Flow\n",
        " - [ ] Functions\n",
        " - [ ] Boolean Operators\n",
        " - [ ] Control Flow\n",
        " - [ ] Programming Loops\n",
        " - [ ] Lambda Functions\n",
        "\n",
        "### **Time Dependent:**\n",
        "\n",
        "- [ ] Module 4: NumPy Fundamentals\n",
        " - [ ] Arrays\n",
        " - [ ] **Indexing** In Depth\n",
        "- [ ] Module 5: Pandas Fundamentals\n",
        " - [ ] DataFrame\n",
        " - [ ] Importing Data\n",
        " - [ ] **Indexing**!\n",
        "\n"
      ]
    },
    {
      "cell_type": "markdown",
      "metadata": {
        "id": "WLFH5_uMoZT7"
      },
      "source": [
        "### **Learning Objectives**\r\n",
        "\r\n",
        "- [ ] Basics of Programming in Python\r\n",
        "- [ ] Functions and Program Flow for Python\r\n",
        "- [ ] Basics of Data Science Packages: NumPy & Pandas"
      ]
    },
    {
      "cell_type": "markdown",
      "metadata": {
        "id": "u7H8Lbmt8gBV"
      },
      "source": [
        "### **General Structure of Training**\n",
        "\n",
        "1. Material Introducing Topic\n",
        "\n",
        "2. Example Code Problem(s)\n",
        "\n",
        "3. Writing Code Together"
      ]
    },
    {
      "cell_type": "markdown",
      "metadata": {
        "id": "qFKePo9S8gBV"
      },
      "source": [
        "### **Notes on Using Jupyter Notebook**\n",
        "\n",
        "For Day 1 of training, I am treating each code cell as its own independent program.\n",
        "\n",
        "In future modulues, you'll be introduced to how Jupyter enhances data science, the iPython console, and kernel processes. This probably won't make any sense at this point unless you've used Python before."
      ]
    },
    {
      "cell_type": "markdown",
      "metadata": {
        "id": "d-0JjhBQh8q7"
      },
      "source": [
        "# **Module 1: Intro to Python**\r\n"
      ]
    },
    {
      "cell_type": "markdown",
      "metadata": {
        "id": "vTwQ0Xzuu91h"
      },
      "source": [
        "- [ ] Module 1: Fundamentals of Python\n",
        " - [ ] Core Mathematical Operators\n",
        " - [ ] Getting Output from Python\n",
        " - [ ] Comments in Code\n",
        " - [ ] Modules & Packages"
      ]
    },
    {
      "cell_type": "markdown",
      "metadata": {
        "id": "6rvRCpRwp6Zd"
      },
      "source": [
        "## **1.1 - Core Mathematical Operators**"
      ]
    },
    {
      "cell_type": "markdown",
      "metadata": {
        "id": "nLw86rYJqua-"
      },
      "source": [
        "In Python, guess what our core mathematical operators do?\r\n",
        "\r\n",
        "*Hint: They do math!*\r\n",
        "\r\n",
        "Thankfully, in Python the operators primarily do what we would expect:\r\n",
        "\r\n",
        "| Operator | Description |\r\n",
        "| :---: | --- |\r\n",
        "| `+` | Addition |\r\n",
        "| `-` | Subtraction |\r\n",
        "| `*` | Multiplication |\r\n",
        "| `/` | Division |\r\n",
        "| `**` | Exponentiation |\r\n",
        "| `//` | Floor / Integer Division |\r\n",
        "| `%` | Modulo / Remainder Division |\r\n",
        "\r\n",
        "The first 5 operators we use a lot! The last two are special division methods that I'll explain below.\r\n",
        "\r\n",
        "**We use the addition operator `+` to add numbers together:**\r\n",
        "\r\n",
        "```python\r\n",
        "5 + 6\r\n",
        "```\r\n",
        "\r\n",
        "**We use the subtraction operator `-` to subtract numbers:**\r\n",
        "\r\n",
        "```python\r\n",
        "10 - 4\r\n",
        "```\r\n",
        "\r\n",
        "**We use the multiplication operator `*` to multiply numbers:**\r\n",
        "\r\n",
        "```python\r\n",
        "5 * 7\r\n",
        "```\r\n",
        "\r\n",
        "**And we use the division operator `/` to divide two numbers:**\r\n",
        "\r\n",
        "```python\r\n",
        "12 / 4\r\n",
        "```\r\n",
        "\r\n",
        "And, Python also has two special division methods built in:\r\n",
        "\r\n",
        "**The floor / integer division operator `//`:**\r\n",
        "\r\n",
        "This one takes the quotient of the two numbers, and only returns the integer value.\r\n",
        "\r\n",
        "```python\r\n",
        "14 // 5\r\n",
        "```\r\n",
        "\r\n",
        "**The modulo operator `%`:**\r\n",
        "\r\n",
        "This one takes the quotient of the two numbers, and only returns the remainder value.\r\n",
        "\r\n",
        "```python\r\n",
        "14 // 5\r\n",
        "```"
      ]
    },
    {
      "cell_type": "markdown",
      "metadata": {
        "id": "oYN5-XK6v9W_"
      },
      "source": [
        "### **Examples of Core Operators**"
      ]
    },
    {
      "cell_type": "code",
      "metadata": {
        "id": "f0p25goDwC1n",
        "colab": {
          "base_uri": "https://localhost:8080/"
        },
        "outputId": "d0389fe9-cc2f-4f0f-8963-11a56a01d7e8"
      },
      "source": [
        "15 + 17"
      ],
      "execution_count": 1,
      "outputs": [
        {
          "output_type": "execute_result",
          "data": {
            "text/plain": [
              "32"
            ]
          },
          "metadata": {
            "tags": []
          },
          "execution_count": 1
        }
      ]
    },
    {
      "cell_type": "code",
      "metadata": {
        "id": "eWgq1MA6wHF9",
        "colab": {
          "base_uri": "https://localhost:8080/"
        },
        "outputId": "ca53682f-1fbb-4893-a9e0-367fa601bc27"
      },
      "source": [
        "12 - 8"
      ],
      "execution_count": 2,
      "outputs": [
        {
          "output_type": "execute_result",
          "data": {
            "text/plain": [
              "4"
            ]
          },
          "metadata": {
            "tags": []
          },
          "execution_count": 2
        }
      ]
    },
    {
      "cell_type": "code",
      "metadata": {
        "id": "A-ClGhDNwKB5",
        "colab": {
          "base_uri": "https://localhost:8080/"
        },
        "outputId": "12ce29a8-31b9-49f2-f091-50223d4e1143"
      },
      "source": [
        "5 * 7"
      ],
      "execution_count": 3,
      "outputs": [
        {
          "output_type": "execute_result",
          "data": {
            "text/plain": [
              "35"
            ]
          },
          "metadata": {
            "tags": []
          },
          "execution_count": 3
        }
      ]
    },
    {
      "cell_type": "code",
      "metadata": {
        "id": "07fRw1AkwNg-",
        "colab": {
          "base_uri": "https://localhost:8080/"
        },
        "outputId": "b9e2089a-56f4-40bc-d613-19353fed6c7d"
      },
      "source": [
        "6 / 2"
      ],
      "execution_count": 4,
      "outputs": [
        {
          "output_type": "execute_result",
          "data": {
            "text/plain": [
              "3.0"
            ]
          },
          "metadata": {
            "tags": []
          },
          "execution_count": 4
        }
      ]
    },
    {
      "cell_type": "code",
      "metadata": {
        "id": "dH1ERxHVwQBI",
        "colab": {
          "base_uri": "https://localhost:8080/"
        },
        "outputId": "ac89c4b4-c658-4c86-e7ec-86ff7aa53f78"
      },
      "source": [
        "5 ** 10"
      ],
      "execution_count": 5,
      "outputs": [
        {
          "output_type": "execute_result",
          "data": {
            "text/plain": [
              "9765625"
            ]
          },
          "metadata": {
            "tags": []
          },
          "execution_count": 5
        }
      ]
    },
    {
      "cell_type": "code",
      "metadata": {
        "id": "32HB7qDewV8e",
        "colab": {
          "base_uri": "https://localhost:8080/"
        },
        "outputId": "5db75b2b-7753-4ce0-a465-20332a07952a"
      },
      "source": [
        "58 // 3"
      ],
      "execution_count": 6,
      "outputs": [
        {
          "output_type": "execute_result",
          "data": {
            "text/plain": [
              "19"
            ]
          },
          "metadata": {
            "tags": []
          },
          "execution_count": 6
        }
      ]
    },
    {
      "cell_type": "code",
      "metadata": {
        "id": "aR_IrdDAwZW3",
        "colab": {
          "base_uri": "https://localhost:8080/"
        },
        "outputId": "cac817bc-4742-4119-ada3-82012f0ebd61"
      },
      "source": [
        "58 % 3"
      ],
      "execution_count": 7,
      "outputs": [
        {
          "output_type": "execute_result",
          "data": {
            "text/plain": [
              "1"
            ]
          },
          "metadata": {
            "tags": []
          },
          "execution_count": 7
        }
      ]
    },
    {
      "cell_type": "markdown",
      "metadata": {
        "id": "I65_HJNnwdeb"
      },
      "source": [
        "### **Practicing Core Operators**"
      ]
    },
    {
      "cell_type": "markdown",
      "metadata": {
        "id": "rcLndT6u8gBW"
      },
      "source": [
        "#### **Problem 1.1.A**\n",
        "\n",
        "In the following 4 code cells:\n",
        "\n",
        "1. Calculate $2^{12}$\n",
        "\n",
        "2. Calculate the remainder of $147 / 33$\n",
        "\n",
        "3. Calculate $15^\\frac{4}{7}$\n",
        "\n",
        "4. Calculate $(2^4)^{12 - 5}$"
      ]
    },
    {
      "cell_type": "code",
      "metadata": {
        "id": "ljLhbRuV8gBX",
        "colab": {
          "base_uri": "https://localhost:8080/"
        },
        "outputId": "41aecfa8-37bb-49a1-b779-23476f89826f"
      },
      "source": [
        "### Solution 1 Goes Here:\n",
        "2 ** 12"
      ],
      "execution_count": 8,
      "outputs": [
        {
          "output_type": "execute_result",
          "data": {
            "text/plain": [
              "4096"
            ]
          },
          "metadata": {
            "tags": []
          },
          "execution_count": 8
        }
      ]
    },
    {
      "cell_type": "code",
      "metadata": {
        "id": "xaBl1hhfxme_",
        "colab": {
          "base_uri": "https://localhost:8080/"
        },
        "outputId": "ccefc4c0-288c-4503-97c9-4ed74b721b49"
      },
      "source": [
        "### Solution 2 Goes Here:\r\n",
        "147 % 33"
      ],
      "execution_count": 9,
      "outputs": [
        {
          "output_type": "execute_result",
          "data": {
            "text/plain": [
              "15"
            ]
          },
          "metadata": {
            "tags": []
          },
          "execution_count": 9
        }
      ]
    },
    {
      "cell_type": "code",
      "metadata": {
        "id": "OT3tb_9XxmyT",
        "colab": {
          "base_uri": "https://localhost:8080/"
        },
        "outputId": "049fddc5-35be-4e9c-a0e2-d103a3c0fff9"
      },
      "source": [
        "### Solution 3 Goes Here:\r\n",
        "15 ** (4/7)"
      ],
      "execution_count": 10,
      "outputs": [
        {
          "output_type": "execute_result",
          "data": {
            "text/plain": [
              "4.699505346598214"
            ]
          },
          "metadata": {
            "tags": []
          },
          "execution_count": 10
        }
      ]
    },
    {
      "cell_type": "code",
      "metadata": {
        "colab": {
          "base_uri": "https://localhost:8080/"
        },
        "id": "cheAVYsx_mTj",
        "outputId": "2d507a9a-a044-47c2-a531-4a3522f5462c"
      },
      "source": [
        "# Order of Operations Wrong\n",
        "15 ** 4 / 7"
      ],
      "execution_count": 11,
      "outputs": [
        {
          "output_type": "execute_result",
          "data": {
            "text/plain": [
              "7232.142857142857"
            ]
          },
          "metadata": {
            "tags": []
          },
          "execution_count": 11
        }
      ]
    },
    {
      "cell_type": "code",
      "metadata": {
        "id": "_-jvtQCcxnDO",
        "colab": {
          "base_uri": "https://localhost:8080/"
        },
        "outputId": "028d076e-2088-453b-e785-224a2d446ed6"
      },
      "source": [
        "### Solution 4 Goes Here:\r\n",
        "(2 ** 4) ** (12 - 5)"
      ],
      "execution_count": 13,
      "outputs": [
        {
          "output_type": "execute_result",
          "data": {
            "text/plain": [
              "268435456"
            ]
          },
          "metadata": {
            "tags": []
          },
          "execution_count": 13
        }
      ]
    },
    {
      "cell_type": "markdown",
      "metadata": {
        "id": "-zG_jJQhp_0u"
      },
      "source": [
        "## **1.2 - Getting Output from Python**"
      ]
    },
    {
      "cell_type": "markdown",
      "metadata": {
        "id": "wfSx7FcmyTtD"
      },
      "source": [
        "In Python, there are two primary methods to get output from our program:\r\n",
        "\r\n",
        "1. Use the built-in `print()` function!\r\n",
        "\r\n",
        "2. In Jupyter Notebooks, the last line will evaluate and *usually* output!\r\n",
        "\r\n",
        "If you want to output information from before the last line, you'll need to leverage the print function!\r\n",
        "\r\n",
        "**As an example, let's see the `print()` function in action:**\r\n",
        "\r\n"
      ]
    },
    {
      "cell_type": "code",
      "metadata": {
        "id": "z11Zxs8ly-G_",
        "colab": {
          "base_uri": "https://localhost:8080/"
        },
        "outputId": "4fcd9945-9a74-484a-f36c-f1d26baefea4"
      },
      "source": [
        "x = 2\r\n",
        "print(x)\r\n",
        "\r\n",
        "y = 15\r\n",
        "print(y)\r\n",
        "\r\n",
        "z = (7**x) - (10*y)\r\n",
        "print(z)"
      ],
      "execution_count": 16,
      "outputs": [
        {
          "output_type": "stream",
          "text": [
            "2\n",
            "15\n",
            "-101\n"
          ],
          "name": "stdout"
        }
      ]
    },
    {
      "cell_type": "markdown",
      "metadata": {
        "id": "qgnrGI5lzUie"
      },
      "source": [
        "**Now, let's compare it to the Jupyter code cell output:**"
      ]
    },
    {
      "cell_type": "code",
      "metadata": {
        "id": "doaRYDxazxHi",
        "colab": {
          "base_uri": "https://localhost:8080/"
        },
        "outputId": "f527c006-6647-4026-bd19-c1f8b9243460"
      },
      "source": [
        "z = 125**(1/3)\r\n",
        "z"
      ],
      "execution_count": 17,
      "outputs": [
        {
          "output_type": "execute_result",
          "data": {
            "text/plain": [
              "4.999999999999999"
            ]
          },
          "metadata": {
            "tags": []
          },
          "execution_count": 17
        }
      ]
    },
    {
      "cell_type": "markdown",
      "metadata": {
        "id": "C_Wgc0Saz-gu"
      },
      "source": [
        "*Hint: If you're thinking the above value should be 5, you'd be correct! Let's keep this in mind when we get to numbers in Module 2 and you'll learn why!*"
      ]
    },
    {
      "cell_type": "markdown",
      "metadata": {
        "id": "4PuCHAHnqIRp"
      },
      "source": [
        "## **1.3 - Variables and Assignment**"
      ]
    },
    {
      "cell_type": "markdown",
      "metadata": {
        "id": "ml3mOsGm0R52"
      },
      "source": [
        "Above, you saw a small snippet of variables and the assignment operator `=`.\r\n",
        "\r\n",
        "Variables in programming allow us to store data! We can then use that stored data in our program, calculate new values, and run data analysis!\r\n",
        "\r\n",
        "To tell Python to store something in a variable, we start with the variable name in a line and then use `=`. On the right will be whatever value we want to store in the variable!\r\n",
        "\r\n",
        "Let's see an example of creating the variable $x=10$ and then printing it out!"
      ]
    },
    {
      "cell_type": "code",
      "metadata": {
        "id": "2vnZarhA9m0Q",
        "colab": {
          "base_uri": "https://localhost:8080/"
        },
        "outputId": "8d755bb3-f386-4493-88a8-4ea83edfd62d"
      },
      "source": [
        "x = 10\r\n",
        "x"
      ],
      "execution_count": 21,
      "outputs": [
        {
          "output_type": "execute_result",
          "data": {
            "text/plain": [
              "10"
            ]
          },
          "metadata": {
            "tags": []
          },
          "execution_count": 21
        }
      ]
    },
    {
      "cell_type": "markdown",
      "metadata": {
        "id": "odwvmhYHqOcB"
      },
      "source": [
        "## **1.4 - Adding Comments to Code**"
      ]
    },
    {
      "cell_type": "markdown",
      "metadata": {
        "id": "DyPWotM-aKAm"
      },
      "source": [
        "Now that you know some basics of coding, you're going to learn how to tell the computer to ignore your code!\r\n",
        "\r\n",
        "Why? Sometimes we want to hide a part of the program while we trouble shoot, and other times we want to add notes to our code for future use!\r\n",
        "\r\n",
        "Python has 2 main ways of adding comments:\r\n",
        "\r\n",
        "1) Inline\r\n",
        "\r\n",
        "```python\r\n",
        "# This is a comment and will be ignored\r\n",
        "\r\n",
        "x = 5 # We can also add comments at the end of a line\r\n",
        "```\r\n",
        "\r\n",
        "2) Block\r\n",
        "\r\n",
        "```python\r\n",
        "\"\"\"\r\n",
        "Everything\r\n",
        "In\r\n",
        "Here\r\n",
        "Will\r\n",
        "Be\r\n",
        "Ignored\r\n",
        "!!!\r\n",
        "\"\"\"\r\n",
        "```"
      ]
    },
    {
      "cell_type": "markdown",
      "metadata": {
        "id": "vmzxuM60qTW2"
      },
      "source": [
        "## **1.5 - Modules and Packages**"
      ]
    },
    {
      "cell_type": "markdown",
      "metadata": {
        "id": "yCmor0tKbRti"
      },
      "source": [
        "A lot in Python that we want to do has already been done, and we can install packages so we don't have to reinvent the wheel!\n",
        "\n",
        "We can import an entire package using the import statement. By default, Google Colab (and Anaconda) have a lot of built in packages!\n",
        "\n",
        "Here's how to import:\n",
        "\n",
        "```python\n",
        "import numpy as np\n",
        "import pandas as pd\n",
        "```\n",
        "\n",
        "We use the shorthand `np` and `pd` to shorten function calls, and are how you'll see it in documentation and examples!\n",
        "\n",
        "**Small Tip About Notebooks:**\n",
        "\n",
        "Generally, you'll have one cell at the top of your Jupyter Notebook with all the packages and import statements. You just need to run it once to activate it throughout the entire notebook.\n",
        "\n",
        "This is because behind the scenes Jupyter is running a kernel process, which is essentially a small Python server that manages everything.\n",
        "\n",
        "*A preview of what we will eventually do with variables, functions, and data!*"
      ]
    },
    {
      "cell_type": "markdown",
      "metadata": {
        "id": "-zoatdhNs4RP"
      },
      "source": [
        "## **1.6 Markdown Cells**"
      ]
    },
    {
      "cell_type": "markdown",
      "metadata": {
        "id": "85hrPmDfs9tv"
      },
      "source": [
        "The text you're currently looking at is in a markdown cell! These render text, and we can make headings, fancy lists, tables, equations using LaTeX, and add images/text.\n",
        "\n",
        "You'll use these to add descriptions to your code, and even instructions. Notebooks like these as a whole can be a professional looking document!\n",
        "\n",
        "For example:\n",
        "\n",
        "$$y = x^2 + 2x - x^{\\frac{1}{4}} + 5$$\n",
        "\n",
        "Using LaTeX makes mathematical statements and equations look clean and professional.\n",
        "\n",
        "[LaTeX Guide](https://en.wikibooks.org/wiki/LaTeX/Mathematics)\n",
        "\n",
        "You can google search markdown cheat sheets."
      ]
    },
    {
      "cell_type": "markdown",
      "metadata": {
        "id": "awc6zc6dEW9b"
      },
      "source": [
        "This is a new markdown cell!"
      ]
    },
    {
      "cell_type": "markdown",
      "metadata": {
        "id": "Mf-bYfUD8gBZ"
      },
      "source": [
        "# Module 2: Data Types & Structures"
      ]
    },
    {
      "cell_type": "markdown",
      "metadata": {
        "id": "H4hP_cg2vJBG"
      },
      "source": [
        "- [ ] Module 2: Data Types & Structures\n",
        " - [ ] Strings\n",
        " - [ ] Numbers\n",
        " - [ ] Boolean Values\n",
        " - [ ] Lists"
      ]
    },
    {
      "cell_type": "markdown",
      "metadata": {
        "id": "-em9mK_38gBZ"
      },
      "source": [
        "## Module 2.1 Strings"
      ]
    },
    {
      "cell_type": "markdown",
      "metadata": {
        "id": "1-wHXLj58gBZ"
      },
      "source": [
        "### What are Strings?\n",
        "\n",
        "In Python, strings are chunks of alphanumeric text that we want to either store or process. In Data Science, we'll often use strings to improve our output and make it easy to read!\n",
        "\n",
        "If you're interested in Natural Language Processing (NLP) in Python, then you'll want to take time to learn the ins and outs of working with text in Python.\n",
        "\n",
        "I'm just going to cover some quick fundamentals."
      ]
    },
    {
      "cell_type": "markdown",
      "metadata": {
        "id": "DZ8Qi7d48gBa"
      },
      "source": [
        "### Declaring Strings\n",
        "\n",
        "In Python, strings are surronded by either single `''` or double `\"\"` quotation marks:\n",
        "\n",
        "```python\n",
        "name = \"Matt\"\n",
        "school = 'Simon Business School'\n",
        "```\n",
        "\n"
      ]
    },
    {
      "cell_type": "markdown",
      "metadata": {
        "id": "tlU95wzm8gBa"
      },
      "source": [
        "### Printing out Strings\n",
        "\n",
        "It's also really easy to print out strings that we have declared with the `print()` function:\n",
        "\n",
        "```python\n",
        "text = \"Hello, World!\"\n",
        "print(text)\n",
        "```"
      ]
    },
    {
      "cell_type": "markdown",
      "metadata": {
        "id": "E-SO0YaO8gBa"
      },
      "source": [
        "### Inserting Variables into Strings\n",
        "\n",
        "We can also pass variables into our string to make the output format look better.\n",
        "\n",
        "We use `{}` as a placeholder in our string definition, and then use the `.format()` method to fill it in.\n",
        "\n",
        "```python\n",
        "mean = 23.45\n",
        "\n",
        "output = \"Sample Mean: {}\"\n",
        "\n",
        "print(output.format(mean))\n",
        "```"
      ]
    },
    {
      "cell_type": "code",
      "metadata": {
        "colab": {
          "base_uri": "https://localhost:8080/",
          "height": 35
        },
        "id": "St67CMe6Jzf2",
        "outputId": "a10efdbf-ee73-415d-baa6-ee44c2d6cf43"
      },
      "source": [
        "mean_value = 1056.78\n",
        "\n",
        "output = \"The mean is {}.\"\n",
        "\n",
        "output.format(mean_value)"
      ],
      "execution_count": 23,
      "outputs": [
        {
          "output_type": "execute_result",
          "data": {
            "application/vnd.google.colaboratory.intrinsic+json": {
              "type": "string"
            },
            "text/plain": [
              "'The mean is 1056.78.'"
            ]
          },
          "metadata": {
            "tags": []
          },
          "execution_count": 23
        }
      ]
    },
    {
      "cell_type": "markdown",
      "metadata": {
        "id": "nN1fUR5y8gBa"
      },
      "source": [
        "## Practice with Strings"
      ]
    },
    {
      "cell_type": "markdown",
      "metadata": {
        "id": "EbIV1j0h8gBa"
      },
      "source": [
        "### Problem 2.1.A\n",
        "\n",
        "In one code cell...\n",
        "\n",
        "1. Declare variables `age` and `name` with your information\n",
        "\n",
        "2. Write a greeting named `greeting` with placeholders `{}` for where you want your name and age.\n",
        "\n",
        "3. In one line, print out `greeting` and use `.format()` to add in your name and age.\n",
        "\n",
        "Tip: Make sure name and age are in the order they appear in the string, and separate them with a comma `,`\n",
        "\n",
        "4. Replace the name and age with new values, then run again!"
      ]
    },
    {
      "cell_type": "code",
      "metadata": {
        "id": "YYJ_IvIj8gBb",
        "colab": {
          "base_uri": "https://localhost:8080/",
          "height": 35
        },
        "outputId": "9246c2ab-f897-492f-b9b2-7e9523e2df08"
      },
      "source": [
        "### Solution Goes Here\n",
        "age = 23\n",
        "name = \"Matt\"\n",
        "\n",
        "greeting = \"Hey, my name is {} and I am {} years old.\"\n",
        "\n",
        "greeting.format(name,age)\n",
        "\n",
        "greeting"
      ],
      "execution_count": 24,
      "outputs": [
        {
          "output_type": "execute_result",
          "data": {
            "application/vnd.google.colaboratory.intrinsic+json": {
              "type": "string"
            },
            "text/plain": [
              "'Hey, my name is Matt and I am 23 years old.'"
            ]
          },
          "metadata": {
            "tags": []
          },
          "execution_count": 24
        }
      ]
    },
    {
      "cell_type": "code",
      "metadata": {
        "colab": {
          "base_uri": "https://localhost:8080/",
          "height": 35
        },
        "id": "QmsXZSXsLIAb",
        "outputId": "713f3e42-4b23-4a4c-f945-c0b1f637e23f"
      },
      "source": [
        "## Practice Calling a Few Extra Methods\n",
        "\n",
        "my_string = \"Hello, World!\"\n",
        "\n",
        "my_string.casefold()"
      ],
      "execution_count": 25,
      "outputs": [
        {
          "output_type": "execute_result",
          "data": {
            "application/vnd.google.colaboratory.intrinsic+json": {
              "type": "string"
            },
            "text/plain": [
              "'hello, world!'"
            ]
          },
          "metadata": {
            "tags": []
          },
          "execution_count": 25
        }
      ]
    },
    {
      "cell_type": "code",
      "metadata": {
        "colab": {
          "base_uri": "https://localhost:8080/",
          "height": 35
        },
        "id": "8N4jB3SmLv6n",
        "outputId": "4a986347-805e-4cb7-c4d7-48dcc3a6a741"
      },
      "source": [
        "## Running method directly\n",
        "\n",
        "mean = 55\n",
        "my_string = \"The sample mean is {}\".format(mean)\n",
        "my_string"
      ],
      "execution_count": 26,
      "outputs": [
        {
          "output_type": "execute_result",
          "data": {
            "application/vnd.google.colaboratory.intrinsic+json": {
              "type": "string"
            },
            "text/plain": [
              "'The sample mean is 55'"
            ]
          },
          "metadata": {
            "tags": []
          },
          "execution_count": 26
        }
      ]
    },
    {
      "cell_type": "markdown",
      "metadata": {
        "id": "3F28OkrZ8gBb"
      },
      "source": [
        "### Problem 2.1.B\n",
        "\n",
        "In one code cell...\n",
        "\n",
        "1. Put any number in a variable `x`\n",
        "\n",
        "2. In a new variable `y`, find the difference between `x` and `7`: $x-7$\n",
        "\n",
        "3. Define the following string:\n",
        "\n",
        "```python\n",
        "output = \"The difference between {} and 7 is {}\"\n",
        "```\n",
        "\n",
        "4. In one line, print out and format the variables that make sense in each placeholder."
      ]
    },
    {
      "cell_type": "code",
      "metadata": {
        "id": "CetWHP0t8gBb",
        "colab": {
          "base_uri": "https://localhost:8080/",
          "height": 35
        },
        "outputId": "799b151d-b0fa-4700-8ba0-a206b5416ca5"
      },
      "source": [
        "### Solution Goes Here\n",
        "\n",
        "x = -7\n",
        "\n",
        "y = x - (-7)\n",
        "\n",
        "output = \"The difference between {} and 7 is {}\".format(x,y)\n",
        "\n",
        "output"
      ],
      "execution_count": 30,
      "outputs": [
        {
          "output_type": "execute_result",
          "data": {
            "application/vnd.google.colaboratory.intrinsic+json": {
              "type": "string"
            },
            "text/plain": [
              "'The difference between -7 and 7 is 0'"
            ]
          },
          "metadata": {
            "tags": []
          },
          "execution_count": 30
        }
      ]
    },
    {
      "cell_type": "markdown",
      "metadata": {
        "id": "2Gp-ZrIl8gBc"
      },
      "source": [
        "## **Module 2.2 Numbers**"
      ]
    },
    {
      "cell_type": "markdown",
      "metadata": {
        "id": "68Q45LEj8gBc"
      },
      "source": [
        "There's two* types of primitive data types for numbers in Python:\n",
        "\n",
        "| Type | Description |\n",
        "| --- | ------ |\n",
        "| Integer | Whole numbers (0, 1, 2, 3...) |\n",
        "| Float   | Numbers with decimal information (3.75, -2.1, 0.0) |\n",
        "\n",
        "*There's technically imaginary numbers too, but I don't use them and you probably will never need to unless you're doing scientific / mathematic computing. And that's way out of scope of this training.*\n",
        "\n",
        "The difference in Python between these two data types is that integers are declared without a decimal point `.` and float contains a decimal."
      ]
    },
    {
      "cell_type": "markdown",
      "metadata": {
        "id": "KjBNKHkRtzwH"
      },
      "source": [
        "### **Floating Point Mathematics**\r\n",
        "\r\n",
        "Above, you may have noticed that the following problem had an unexpected output:\r\n",
        "\r\n",
        "```python\r\n",
        "z = 125**(1/3)\r\n",
        "z\r\n",
        "\r\n",
        ">>> 4.999999999999999\r\n",
        "```\r\n",
        "\r\n",
        "This is because Python uses floating point mathematics to store decimal values!\r\n",
        "\r\n",
        "TL/DR: Floating point mathematics is how we store decimal numbers in binary form, a series of ones and zeroes. This means that we may need to round our numbers at the last binary digit, and we can see tiny errors at the 32nd or 64th binary digit.\r\n",
        "\r\n",
        "[Here's an article](https://en.wikipedia.org/wiki/Floating-point_arithmetic) if you want to learn more."
      ]
    },
    {
      "cell_type": "code",
      "metadata": {
        "colab": {
          "base_uri": "https://localhost:8080/"
        },
        "id": "srF9gaqYNXUG",
        "outputId": "39f707e9-ae12-4549-9112-179fb376d59c"
      },
      "source": [
        "## Another Example\n",
        "\n",
        "1.2 - 0.4"
      ],
      "execution_count": 31,
      "outputs": [
        {
          "output_type": "execute_result",
          "data": {
            "text/plain": [
              "0.7999999999999999"
            ]
          },
          "metadata": {
            "tags": []
          },
          "execution_count": 31
        }
      ]
    },
    {
      "cell_type": "markdown",
      "metadata": {
        "id": "03gPjKt18gBc"
      },
      "source": [
        "### **Declaring Number Types**\n",
        "\n",
        "Integer Examples:\n",
        "\n",
        "```python\n",
        "x = 15\n",
        "y = 0\n",
        "z = -7\n",
        "```\n",
        "\n",
        "Float Examples:\n",
        "\n",
        "```python\n",
        "x = 15.7\n",
        "y = 0.0\n",
        "z = -7.\n",
        "```"
      ]
    },
    {
      "cell_type": "markdown",
      "metadata": {
        "id": "TDK0kii9ODLD"
      },
      "source": [
        "Remember the difference between a method and a function!\n",
        "\n",
        "Methods: called on object\n",
        "\n",
        "`\"My String\".format()`\n",
        "\n",
        "Functions: take arguments\n",
        "\n",
        "`print()`"
      ]
    },
    {
      "cell_type": "code",
      "metadata": {
        "colab": {
          "base_uri": "https://localhost:8080/"
        },
        "id": "CLJrPYF6Nzp5",
        "outputId": "7b3e2274-8508-425b-f29a-8c697da6855c"
      },
      "source": [
        "### Checking The Data Types with type()\n",
        "\n",
        "type(\"hi there!\")"
      ],
      "execution_count": 34,
      "outputs": [
        {
          "output_type": "execute_result",
          "data": {
            "text/plain": [
              "str"
            ]
          },
          "metadata": {
            "tags": []
          },
          "execution_count": 34
        }
      ]
    },
    {
      "cell_type": "markdown",
      "metadata": {
        "id": "UO98Jq078gBc"
      },
      "source": [
        "### Essential Functions for Numbers\n",
        "\n",
        "| Function | Description |\n",
        "| --- | ------ |\n",
        "| `int()` | Converts number into integer data type |\n",
        "| `float()`  | Converts number into float data type |\n",
        "| `round()` | Rounds float to given precision level |\n",
        "| `abs()` | Calculates absolute value (magnitude) of number |\n",
        "\n",
        "#### Convert to Integer Using `int()`\n",
        "\n",
        "```python\n",
        "x = int(5.7)\n",
        "print(x)\n",
        "\n",
        ">>> 5\n",
        "```\n",
        "\n",
        "#### Convert to Float Using `float()`\n",
        "\n",
        "```python\n",
        "x = float(4)\n",
        "print(x)\n",
        "\n",
        ">>> 4.0\n",
        "```\n",
        "\n",
        "#### Round Float to Precision Level\n",
        "\n",
        "```python\n",
        "x = 1/7\n",
        "x = round(x,3)\n",
        "\n",
        "print(x)\n",
        "\n",
        ">>> 0.143\n",
        "```\n",
        "\n",
        "#### Calculate Absolute Value (Magnitude) of Number\n",
        "\n",
        "```python\n",
        "x = -5\n",
        "x = abs(x)\n",
        "\n",
        "print(x)\n",
        "\n",
        ">>> 5\n",
        "```\n",
        "\n",
        "\n",
        "\n"
      ]
    },
    {
      "cell_type": "code",
      "metadata": {
        "colab": {
          "base_uri": "https://localhost:8080/"
        },
        "id": "CN2GLKiLO13R",
        "outputId": "79ffd32e-fc86-424c-9880-91972ba05404"
      },
      "source": [
        "## Integer Function\n",
        "\n",
        "int(5.9999999999)"
      ],
      "execution_count": 35,
      "outputs": [
        {
          "output_type": "execute_result",
          "data": {
            "text/plain": [
              "5"
            ]
          },
          "metadata": {
            "tags": []
          },
          "execution_count": 35
        }
      ]
    },
    {
      "cell_type": "code",
      "metadata": {
        "colab": {
          "base_uri": "https://localhost:8080/"
        },
        "id": "QWXnvaDWO9vz",
        "outputId": "47b41833-7afc-44a9-f6d5-dc49e98b3290"
      },
      "source": [
        "## Round to Nearest Integer and Convert to Integer\n",
        "\n",
        "int(round(5.99,0))"
      ],
      "execution_count": 37,
      "outputs": [
        {
          "output_type": "execute_result",
          "data": {
            "text/plain": [
              "6"
            ]
          },
          "metadata": {
            "tags": []
          },
          "execution_count": 37
        }
      ]
    },
    {
      "cell_type": "markdown",
      "metadata": {
        "id": "lw1QpJVF8gBd"
      },
      "source": [
        "## Module 2.3 Boolean"
      ]
    },
    {
      "cell_type": "markdown",
      "metadata": {
        "id": "z3nw5U-j8gBd"
      },
      "source": [
        "In Python, the two boolean data types are `True` and `False`.\n",
        "\n",
        "These will become very useful when we get to program flow in the next module!"
      ]
    },
    {
      "cell_type": "markdown",
      "metadata": {
        "id": "VdTTdJIX8gBd"
      },
      "source": [
        "### Declaring Boolean Values\n",
        "\n",
        "```python\n",
        "boolean_true = True\n",
        "boolean_false = False\n",
        "```"
      ]
    },
    {
      "cell_type": "markdown",
      "metadata": {
        "id": "-rfrbRgF8gBd"
      },
      "source": [
        "### Practice Declaring Booleans\n",
        "\n",
        "#### Problem 2.3.A\n",
        "\n",
        "1. In one code cell, set the variable `a` to `True` and `b` to `False`\n",
        "\n",
        "2. Print out a and b in one print function"
      ]
    },
    {
      "cell_type": "code",
      "metadata": {
        "id": "Psqm7vCq8gBd",
        "colab": {
          "base_uri": "https://localhost:8080/"
        },
        "outputId": "36863cb1-f9c0-4973-eefa-e1741827c877"
      },
      "source": [
        "### Solution Goes Here\n",
        "\n",
        "a = True\n",
        "b = False\n",
        "\n",
        "print(a,b)"
      ],
      "execution_count": 38,
      "outputs": [
        {
          "output_type": "stream",
          "text": [
            "True False\n"
          ],
          "name": "stdout"
        }
      ]
    },
    {
      "cell_type": "markdown",
      "metadata": {
        "id": "1dUItZFBPt26"
      },
      "source": [
        "### Bonus Type None"
      ]
    },
    {
      "cell_type": "code",
      "metadata": {
        "colab": {
          "base_uri": "https://localhost:8080/"
        },
        "id": "hAvNmF_uPxtA",
        "outputId": "288bab83-0533-4b50-9682-38eb3a16c8eb"
      },
      "source": [
        "type_none = None\n",
        "print(type_none)"
      ],
      "execution_count": 42,
      "outputs": [
        {
          "output_type": "stream",
          "text": [
            "None\n"
          ],
          "name": "stdout"
        }
      ]
    },
    {
      "cell_type": "markdown",
      "metadata": {
        "id": "AWOhb8bX8gBd"
      },
      "source": [
        "## Module 2.4 Lists & Indexing"
      ]
    },
    {
      "cell_type": "markdown",
      "metadata": {
        "id": "44mc0rah8gBe"
      },
      "source": [
        "Lists are the one built-in data structure that I am going to cover for our training today.\n",
        "\n",
        "Lists contain data points in a specific order with an index (positional value). Lists can contain the following data points, and even more!\n",
        "\n",
        "- Strings\n",
        "- Numbers (Float & Integers)\n",
        "- Boolean Values\n",
        "- Objects & References to Objects\n",
        "- Variables\n",
        "- And almost anything else we can store in Python\n",
        "- Sublists! (Lists inside Lists)\n",
        "\n",
        "Lists are easily declared with the square brackets `[]` and utilize commas `,` to separate elements.\n",
        "\n",
        "**If you only have time to focus on one built in data structure, master indexing and lists (and arrays)! This will take you further in data science than any other data structure by far. We use lists and arrays constantly.**"
      ]
    },
    {
      "cell_type": "markdown",
      "metadata": {
        "id": "uPBz27L98gBe"
      },
      "source": [
        "### Declaring Lists\n",
        "\n",
        "#### Declaring a Simple List\n",
        "\n",
        "```python\n",
        "simple_list = [0, 1, 2, 3, 4]\n",
        "```\n",
        "\n",
        "#### Declaring a Complex List\n",
        "\n",
        "\n",
        "```python\n",
        "a = [1,2,3,4,5]\n",
        "complex_list = [3, 3.14, \"Hello, World!\", a, [\"One\",\"Two\"], True, False, None]\n",
        "```\n",
        "\n",
        "Notice how we can store almost anything in our list!"
      ]
    },
    {
      "cell_type": "markdown",
      "metadata": {
        "id": "MHbPoTpV8gBe"
      },
      "source": [
        "### Practice Building Lists"
      ]
    },
    {
      "cell_type": "markdown",
      "metadata": {
        "id": "OL7wabYR8gBe"
      },
      "source": [
        "#### Problem 2.4.A\n",
        "\n",
        "In one code cell, create a list named `sample_list`that contains...\n",
        "\n",
        "1. The following numbers: $5, 7.9, 8$\n",
        "2. Your name\n",
        "3. A sublist with `True` `False` `True`"
      ]
    },
    {
      "cell_type": "code",
      "metadata": {
        "id": "sVqrk8RZ8gBe",
        "colab": {
          "base_uri": "https://localhost:8080/"
        },
        "outputId": "b785d3fa-36a6-4bbe-e281-135886a4bdcc"
      },
      "source": [
        "### Solution Goes Here\n",
        "\n",
        "sample_list = [5, 7.9, 8, \"Matt\", [True, False, True]]\n",
        "sample_list"
      ],
      "execution_count": 43,
      "outputs": [
        {
          "output_type": "execute_result",
          "data": {
            "text/plain": [
              "[5, 7.9, 8, 'Matt', [True, False, True]]"
            ]
          },
          "metadata": {
            "tags": []
          },
          "execution_count": 43
        }
      ]
    },
    {
      "cell_type": "markdown",
      "metadata": {
        "id": "X1ltEz0k8gBf"
      },
      "source": [
        "### Indexing and Lists\n",
        "\n",
        "In Python, we'll want to access the data that we store in Lists! Using the notation `list[n]`, we can access the element with the index value `n`\n",
        "\n",
        "What is an index? The index of a list is the positional value of each element. Python has a zero index, so it starts at 0.\n",
        "\n",
        "For example, the list...\n",
        "\n",
        "```python\n",
        "my_list = [\"Apples\",\"Oranges\",\"Lemons\",\"Limes\"]\n",
        "```\n",
        "\n",
        "Has the following index values for each element:\n",
        "\n",
        "| Index Value | Element |\n",
        "| :---: | --- |\n",
        "| 0 | Apples |\n",
        "| 1 | Oranges |\n",
        "| 2 | Lemons |\n",
        "| 3 | Limes |\n",
        "\n",
        "#### Accessing Element with Index\n",
        "\n",
        "```python\n",
        "my_list = [\"A\",\"B\",\"C\",\"D\"]\n",
        "print(my_list[1])\n",
        "\n",
        ">>> B\n",
        "```\n",
        "\n",
        "#### Updating Element with Index\n",
        "\n",
        "```python\n",
        "my_list = [\"A\",\"B\",\"C\",\"D\"]\n",
        "my_list[2] = \"c\"\n",
        "\n",
        "print(my_list)\n",
        "\n",
        ">>> [\"A\",\"B\",\"c\",\"D\"]\n",
        "```\n",
        "\n",
        "#### Accessing Element with Negative Index\n",
        "\n",
        "The negative index is a count from the end \n",
        "\n",
        "```python\n",
        "my_list = [\"A\",\"B\",\"C\",\"D\"]\n",
        "print(my_list[-1])\n",
        "\n",
        ">>> D\n",
        "```\n",
        "\n",
        "#### Accessing Multiple Elements via Index\n",
        "\n",
        "We can access a range of elements with the syntax `list[n:m]`, with the first argument being inclusive and the last argument exclusive.\n",
        "\n",
        "```python\n",
        "simple_list = [0, 1, 2, 3, 4]\n",
        "print(simple_list[2:4])\n",
        "\n",
        ">>> [2, 3]\n",
        "```"
      ]
    },
    {
      "cell_type": "markdown",
      "metadata": {
        "id": "uG69G45Y8gBf"
      },
      "source": [
        "### Practice Indexing Lists\n",
        "\n",
        "#### Problem 2.4.B\n",
        "\n",
        "In the code cell below the given list...\n",
        "\n",
        "1. Print out `Thursday`\n",
        "2. Print out the second to last day of the week\n",
        "3. Print out the weekdays"
      ]
    },
    {
      "cell_type": "code",
      "metadata": {
        "id": "OT7gRSwP8gBf",
        "colab": {
          "base_uri": "https://localhost:8080/"
        },
        "outputId": "e3881d02-0e18-4d06-8f22-c5c9eaf513d1"
      },
      "source": [
        "days = [\"Monday\", \"Tuesday\", \"Wednesday\", \"Thursday\", \"Friday\", \"Saturday\", \"Sunday\"]\n",
        "\n",
        "### Solution Goes Here:\n",
        "print(days[3])\n",
        "\n",
        "# Second to Last\n",
        "print(days[-2])\n",
        "\n",
        "# Print Out Weekdays\n",
        "print(days[:-2])\n",
        "\n",
        "# Second Through End\n",
        "print(days[1:])\n",
        "\n",
        "\n",
        "# Reverse List Then Print Out\n",
        "days.reverse()\n",
        "days"
      ],
      "execution_count": 56,
      "outputs": [
        {
          "output_type": "stream",
          "text": [
            "Thursday\n",
            "Saturday\n",
            "['Monday', 'Tuesday', 'Wednesday', 'Thursday', 'Friday']\n",
            "['Tuesday', 'Wednesday', 'Thursday', 'Friday', 'Saturday', 'Sunday']\n"
          ],
          "name": "stdout"
        },
        {
          "output_type": "execute_result",
          "data": {
            "text/plain": [
              "['Sunday', 'Saturday', 'Friday', 'Thursday', 'Wednesday', 'Tuesday', 'Monday']"
            ]
          },
          "metadata": {
            "tags": []
          },
          "execution_count": 56
        }
      ]
    },
    {
      "cell_type": "markdown",
      "metadata": {
        "id": "WkYd-t5j8gBf"
      },
      "source": [
        "### Useful List Methods"
      ]
    },
    {
      "cell_type": "markdown",
      "metadata": {
        "id": "NPDjIBkZ8gBf"
      },
      "source": [
        "I'm going to cover some built in methods that provide functionality and usability to lists:\n",
        "\n",
        "| Method | Description |\n",
        "| --- | --- |\n",
        "| `.append()` | Adds argument to end of list |\n",
        "| `.pop()` | Removes (and optionally returns) last element of list |\n",
        "| `.remove()` | Removes first instance of specified element |\n"
      ]
    },
    {
      "cell_type": "markdown",
      "metadata": {
        "id": "DkbsGJR_8gBg"
      },
      "source": [
        "#### Add Elements to End of List\n",
        "\n",
        "We can use the `.append()` method to add an element to the end of a list:\n",
        "\n",
        "```python\n",
        "num = [0, 1, 2, 3, 4]\n",
        "num.append(5)\n",
        "\n",
        "print(num)\n",
        "\n",
        ">>> [0, 1, 2, 3, 4, 5]\n",
        "```"
      ]
    },
    {
      "cell_type": "markdown",
      "metadata": {
        "id": "1nHRoWSS8gBg"
      },
      "source": [
        "#### Remove Last Element of List\n",
        "\n",
        "We can use the `.pop()` method to remove (and optionally return) the last element of a list:\n",
        "\n",
        "```python\n",
        "num = [0, 1, 2, 3, 4]\n",
        "num.pop()\n",
        "\n",
        "print(num)\n",
        "\n",
        ">>> [0, 1, 2, 3]\n",
        "```"
      ]
    },
    {
      "cell_type": "markdown",
      "metadata": {
        "id": "ShFl2TGT8gBg"
      },
      "source": [
        "#### Remove Specified Element of List\n",
        "\n",
        "We can use the `.remove()` method to remove a specific element from our list.\n",
        "\n",
        "```python\n",
        "num = [0, 1, 2, 3, 4]\n",
        "num.remove(2)\n",
        "\n",
        "print(num)\n",
        "\n",
        ">>> [0, 1, 3, 4]\n",
        "```"
      ]
    },
    {
      "cell_type": "markdown",
      "metadata": {
        "id": "SbhupTIZ8gBg"
      },
      "source": [
        "### Practice List Methods\n",
        "\n",
        "#### Problem 2.4.C\n",
        "\n",
        "Below the list provided...\n",
        "\n",
        "1. Append a grocery item you need\n",
        "3. Pop that grocery item, as you realize you have it\n",
        "3. Remove `cucumbers` from your shopping list\n",
        "4. Print out your grocery list"
      ]
    },
    {
      "cell_type": "code",
      "metadata": {
        "id": "k4REHIre8gBg",
        "colab": {
          "base_uri": "https://localhost:8080/"
        },
        "outputId": "27afc141-58a5-4d37-804c-f539866b952d"
      },
      "source": [
        "grocery_list = [\"Avocados\", \"Onions\", \"Jalapenos\", \"Cucumbers\", \"Tomatoes\"]\n",
        "\n",
        "### Solution Goes Here:\n",
        "grocery_list.append(\"Bananas\")\n",
        "grocery_list.pop()\n",
        "grocery_list.remove(\"Cucumbers\")\n",
        "\n",
        "\n",
        "grocery_list"
      ],
      "execution_count": 63,
      "outputs": [
        {
          "output_type": "execute_result",
          "data": {
            "text/plain": [
              "['Avocados', 'Onions', 'Jalapenos', 'Tomatoes']"
            ]
          },
          "metadata": {
            "tags": []
          },
          "execution_count": 63
        }
      ]
    },
    {
      "cell_type": "code",
      "metadata": {
        "colab": {
          "base_uri": "https://localhost:8080/",
          "height": 35
        },
        "id": "HeDANP32W6fc",
        "outputId": "d42fb5d8-61ec-4bba-a99d-25938894e46a"
      },
      "source": [
        "## Insert at Specific Index\n",
        "\n",
        "grocery_list = [\"Avocados\", \"Onions\", \"Jalapenos\", \"Cucumbers\", \"Tomatoes\"]\n",
        "\n",
        "grocery_list.insert(12,\"Bananas\")\n",
        "\n",
        "grocery_list[5]"
      ],
      "execution_count": 67,
      "outputs": [
        {
          "output_type": "execute_result",
          "data": {
            "application/vnd.google.colaboratory.intrinsic+json": {
              "type": "string"
            },
            "text/plain": [
              "'Bananas'"
            ]
          },
          "metadata": {
            "tags": []
          },
          "execution_count": 67
        }
      ]
    },
    {
      "cell_type": "markdown",
      "metadata": {
        "id": "MOb3R-8d8gBg"
      },
      "source": [
        "## **Module 2 Further Reading**\n",
        "\n",
        "We just covered a brief introduction to the built-in data types and structures. There's far too much to cover in one session (that you may not even use) and we didn't even touch a few data structures.\n",
        "\n",
        "For further reference see articles on my website [LearningData.io](http://learningdata.io/)\n",
        "\n",
        "- [Module 2: All Data Types & Structures](http://learningdata.io/python-foundations)\n",
        " - [Strings](http://learningdata.io/python-22-strings)\n",
        " - [Lists](http://learningdata.io/python-25-lists)\n",
        " - [Tuples](http://learningdata.io/python-26-tuples)\n",
        " - [Sets](http://learningdata.io/python-27-sets)\n",
        " - [Dictionaries](http://learningdata.io/python-28-dictionaries)\n",
        "\n"
      ]
    },
    {
      "cell_type": "markdown",
      "metadata": {
        "id": "h-OoIId4vkkS"
      },
      "source": [
        "## **What Have We Covered So Far?**\n",
        "\n",
        "- [x] Basics of Running Notebooks & Markdown\n",
        "- [x] Python Fundamentals (Variables & Output & Math)\n",
        "- [x] Primitive Data Types (String, Numbers, Boolean)\n",
        "- [x] Built-In Data Structure: Lists"
      ]
    },
    {
      "cell_type": "markdown",
      "metadata": {
        "id": "Fv694Yon8gBg"
      },
      "source": [
        "# **Module 3: Functions & Program Flow**"
      ]
    },
    {
      "cell_type": "markdown",
      "metadata": {
        "id": "3BtiLVrg8gBh"
      },
      "source": [
        "Here is where our programming skills start to create actual programs! Currently, we are only writing fixed scripts to run, but with Module 3, we can add conditional statements, logical checks, and process structured data.\n",
        "\n",
        "- [ ] Module 3: Functions & Program Flow\n",
        " - [ ] Functions\n",
        " - [ ] Boolean Operators\n",
        " - [ ] Control Flow\n",
        " - [ ] Programming Loops\n",
        " - [ ] Lambda Functions"
      ]
    },
    {
      "cell_type": "markdown",
      "metadata": {
        "id": "RqhN57jd8gBh"
      },
      "source": [
        "## Module 3.1 Functions\n",
        "\n",
        "Functions are the first key part of program flow in Python. Functions allow us to define a process once in our program, and call it when it's needed!\n",
        "\n",
        "That means we rarely have to write the same code twice!\n",
        "\n",
        "### Simple Function Example\n",
        "\n",
        "Let's start by storing the following function in Python:\n",
        "\n",
        "$f(x) = x^3 + 3x^2 -2x + 5$\n",
        "\n",
        "```python\n",
        "def f(x):\n",
        "    return x**3 + 3*x**2 - 2*x + 5\n",
        "```\n",
        "\n",
        "Once it's defined, we can easily call the function and store the result in a variable!\n",
        "\n",
        "```python\n",
        "res = f(5)\n",
        "```\n",
        "\n",
        "In Python, we can represent not only just mathematical operations, but almost any repeatable flow of instructions!"
      ]
    },
    {
      "cell_type": "markdown",
      "metadata": {
        "id": "tTmOfuk18gBh"
      },
      "source": [
        "### Practice Function: Pricing Bonds\n",
        "\n",
        "The price of a bond (without coupons) is given by the following formula:\n",
        "\n",
        "$$V_0 = \\frac{FV}{(1+\\frac{r}{n})^{n*T}}$$\n",
        "\n",
        "| Name | Description |\n",
        "| :---: | --- |\n",
        "| $V_0$ | Current value (price) |\n",
        "| ${FV}$ | Face Value of Bond |\n",
        "| $r$ | Discount Rate (Annual) in Decimal Form: $2\\% = .02$ |\n",
        "| $n$ | Compounding Frequency |\n",
        "| $T$ | Number of Years |\n",
        "\n",
        "Even if you don't understand the finance theory behind bonds, we can still implement the formula together in a function!"
      ]
    },
    {
      "cell_type": "markdown",
      "metadata": {
        "id": "09TpmReE8gBh"
      },
      "source": [
        "#### Practice 3.1.A\n",
        "\n",
        "In one code cell...\n",
        "\n",
        "1. Create a function `bond_price` with 4 input values: ${FV}, r, n, T$\n",
        "\n",
        "2. In the function body, calculate and return the price of a bond\n",
        "\n",
        "3. Use the function to price the following 3 bonds:\n",
        "\n",
        "| ${FV}$ | $r$ | $n$ | $T$ |\n",
        "| --- | --- | --- | --- |\n",
        "| \\$1000 | $2\\%$ | $2$ | $5$ |\n",
        "| \\$1000 | $1.5\\%$ | $4$ | $2$ |\n",
        "| \\$1000 | $3\\%$ | $12$ | $1$ |"
      ]
    },
    {
      "cell_type": "code",
      "metadata": {
        "id": "f3pqapfq8gBh",
        "colab": {
          "base_uri": "https://localhost:8080/"
        },
        "outputId": "e73f7d11-47bf-4e08-c38f-12a978bf906c"
      },
      "source": [
        "### Solution Goes Here:\n",
        "\n",
        "def bond_price(fv,r,n,t):\n",
        "  price = fv / (1 + (r/n))**(n*t)\n",
        "  print(\"Bond Price: {}\".format(price))\n",
        "  return price\n",
        "\n",
        "bnd1 = bond_price(1000,0.02,2,5)\n",
        "bnd2 = bond_price(1000,0.015,4,2)\n",
        "bnd3 = bond_price(1000,0.03,12,1)"
      ],
      "execution_count": 74,
      "outputs": [
        {
          "output_type": "stream",
          "text": [
            "Bond Price: 905.2869546929833\n",
            "Bond Price: 970.499986551197\n",
            "Bond Price: 970.4818653967527\n"
          ],
          "name": "stdout"
        }
      ]
    },
    {
      "cell_type": "markdown",
      "metadata": {
        "id": "x0fRvZsi8gBi"
      },
      "source": [
        "### Practice Function: Percent Change\n",
        "\n",
        "The percent change formula is:\n",
        "\n",
        "$$\\Delta (x) = \\frac{x_1 - x_0}{x_0} = \\frac{x_1}{x_0} - 1$$\n",
        "\n",
        "Let's implement this in Python, but leave it in decimal notation (don't multiply by 100)"
      ]
    },
    {
      "cell_type": "markdown",
      "metadata": {
        "id": "2-_YH1Xd8gBi"
      },
      "source": [
        "#### Practice 3.1.B\n",
        "\n",
        "In one code cell...\n",
        "\n",
        "1. Create a function named `pct_chng` with inputs `x0` and `x1`\n",
        "\n",
        "2. In the function body, calculate and return the percent change\n",
        "\n",
        "3. Calculate and display the percent change for any 3 sets of numbers!\n",
        "\n",
        "Tip: We can calculate multiple functions in one line with the general syntax:\n",
        "\n",
        "```python\n",
        "res1, res2, res3 = f(1), f(2), f(3)\n",
        "```"
      ]
    },
    {
      "cell_type": "code",
      "metadata": {
        "id": "p1dzpCgT8gBi",
        "colab": {
          "base_uri": "https://localhost:8080/"
        },
        "outputId": "7f84a698-dd28-4385-9a7e-f6a3c8d6ed50"
      },
      "source": [
        "### Solution Goes Here:\n",
        "\n",
        "def pct_chng(x0,x1):\n",
        "  return (x1-x0) / x0\n",
        "\n",
        "res1, res2, res3 = pct_chng(-5,10), pct_chng(100,85), pct_chng(98,105)\n",
        "\n",
        "res1, res2, res3"
      ],
      "execution_count": 75,
      "outputs": [
        {
          "output_type": "execute_result",
          "data": {
            "text/plain": [
              "(-3.0, -0.15, 0.07142857142857142)"
            ]
          },
          "metadata": {
            "tags": []
          },
          "execution_count": 75
        }
      ]
    },
    {
      "cell_type": "code",
      "metadata": {
        "id": "TqnmfskhmAnn",
        "outputId": "d53009f1-58d2-485c-e960-45416892fbc6",
        "colab": {
          "base_uri": "https://localhost:8080/"
        }
      },
      "source": [
        "## Reference Existing Variable\n",
        "\n",
        "def pct_chng(x0,x1):\n",
        "  return (x1-x0) / x0\n",
        "\n",
        "starting_value = 98\n",
        "ending_value = 115\n",
        "\n",
        "pct_chng(starting_value, ending_value)"
      ],
      "execution_count": 76,
      "outputs": [
        {
          "output_type": "execute_result",
          "data": {
            "text/plain": [
              "0.17346938775510204"
            ]
          },
          "metadata": {
            "tags": []
          },
          "execution_count": 76
        }
      ]
    },
    {
      "cell_type": "markdown",
      "metadata": {
        "id": "ZnORHmAa8gBi"
      },
      "source": [
        "## **Module 3.2 Boolean Operators**\n",
        "\n"
      ]
    },
    {
      "cell_type": "markdown",
      "metadata": {
        "id": "mnm1Vj-q8gBi"
      },
      "source": [
        "Boolean operators in Python are a precursor to program and control flow. Boolean logic allows us to create pathing and variable states in our program.\n",
        "\n",
        "With Boolean operators, we're almost able to create functions that look like this now:\n",
        "\n",
        "$$ f(x)=   \\left\\{\n",
        "\\begin{array}{ll}\n",
        "      x^3 & x>0 \\\\\n",
        "      x^2+3x-2 & x<0 \\\\\n",
        "      9 & x=0 \\\\\n",
        "\\end{array} \n",
        "\\right.  $$\n",
        "\n",
        "To be able to implement piecewise functions, we first need to create the logical statements that evaluate to either true or false!"
      ]
    },
    {
      "cell_type": "markdown",
      "metadata": {
        "id": "SU-SyRAf8gBi"
      },
      "source": [
        "### Boolean Operators\n",
        "\n",
        "#### Standard Boolean Operators\n",
        "\n",
        "We have the standard ones that you'd expect from math:\n",
        "\n",
        "| Operator | Description |\n",
        "| --- | ------ |\n",
        "| `==` | Equal to |\n",
        "| `!=` | Not equal to |\n",
        "| `>` | Greater than |\n",
        "| `>=` | Greater than or equal to |\n",
        "| `<` | Less than |\n",
        "| `<=` | Less than or equal to |\n",
        "\n",
        "Using these, we can write logical statements that evaluate to either `True` or `False`!\n",
        "\n",
        "#### Standard Operators Example\n",
        "\n",
        "```python\n",
        "x = 5\n",
        "y = 7\n",
        "\n",
        "print(x > y)\n",
        "print(x < y)\n",
        "\n",
        "print(x == y)\n",
        "print(x != y)\n",
        "\n",
        ">>> False\n",
        ">>> True\n",
        ">>> False\n",
        ">>> True\n",
        "```"
      ]
    },
    {
      "cell_type": "markdown",
      "metadata": {
        "id": "PzEX5tTP8gBj"
      },
      "source": [
        "#### Practice 3.2.A\n",
        "\n",
        "In the code cell below...\n",
        "\n",
        "1. Evaluate and print out: $x \\leq y - 2z$\n",
        "\n",
        "2. Evaluate and print out: $z^2 - 4 = y$\n",
        "\n",
        "3. Evaluate and print out: $3x^2 - 2y^2 > z^3$"
      ]
    },
    {
      "cell_type": "code",
      "metadata": {
        "id": "bW6cM6Cm8gBj",
        "colab": {
          "base_uri": "https://localhost:8080/"
        },
        "outputId": "1c610653-24b8-4320-9818-fad1a1c03f35"
      },
      "source": [
        "x = 12\n",
        "y = 21\n",
        "z = 5\n",
        "\n",
        "### Solution Goes Here:\n",
        "print(x <= y - 2*z)\n",
        "\n",
        "print(z**2 - 4 == y)\n",
        "\n",
        "print(3*x**3 - 2*y**2 > z**3)\n"
      ],
      "execution_count": 79,
      "outputs": [
        {
          "output_type": "stream",
          "text": [
            "False\n",
            "True\n",
            "True\n"
          ],
          "name": "stdout"
        }
      ]
    },
    {
      "cell_type": "markdown",
      "metadata": {
        "id": "ZxjAwRtH8gBj"
      },
      "source": [
        "#### Complex Boolean Expression\n",
        "\n",
        "There's operators for stringing multiple conditional statements together:\n",
        "\n",
        "| Operator | Description |\n",
        "| --- | --- |\n",
        "| `and` | Evaluates true if and only if both statements evaluate true |\n",
        "| `or` | Evaluates true if at least one statement evaluates true |\n",
        "| `not` | Reverses boolean statement result |\n",
        "\n",
        "Conditional table for `and` / `or`. \n",
        "\n",
        "`0` is `False` and `1` is `True`\n",
        "\n",
        "| a | b | `and` | `or` |\n",
        "| --- | --- | --- | --- |\n",
        "| 0 | 0 | 0 | 0 |\n",
        "| 1 | 0 | 0 | 1 |\n",
        "| 0 | 1 | 0 | 1 |\n",
        "| 1 | 1 | 1 | 1 |"
      ]
    },
    {
      "cell_type": "markdown",
      "metadata": {
        "id": "DSAGoRCX8gBj"
      },
      "source": [
        "#### Complex Expressions Example\n",
        "\n",
        "```python\n",
        "s1 = True\n",
        "s2 = False\n",
        "\n",
        "c1 = s1 and s2\n",
        "c2 = s1 or s2\n",
        "c3 = s1 and not s2\n",
        "\n",
        "print(c1,c2,c3)\n",
        "\n",
        ">>> False True True\n",
        "```"
      ]
    },
    {
      "cell_type": "markdown",
      "metadata": {
        "id": "dG4PhpVD8gBj"
      },
      "source": [
        "#### Problem 3.2.C\n",
        "\n",
        "In one code cell, evaluate and print out:\n",
        "\n",
        "1. $x^2 + 3y - z > 10$ ${and}$ $2x + 3 < 8$\n",
        "\n",
        "2. $2y - z \\geq x - 2$ ${or}$ $y > z$"
      ]
    },
    {
      "cell_type": "code",
      "metadata": {
        "id": "8fHWO87B8gBj",
        "colab": {
          "base_uri": "https://localhost:8080/"
        },
        "outputId": "cc68c974-5514-4e42-f26b-ad10167e87da"
      },
      "source": [
        "x = 3\n",
        "y = 4\n",
        "z = 7\n",
        "\n",
        "### Solution Goes Here:\n",
        "print((x**2 + 3*y - z > 10) and (2*x + 3 < 8))\n",
        "\n",
        "print((2*y-z >= x - 2) or (y > z))"
      ],
      "execution_count": 81,
      "outputs": [
        {
          "output_type": "stream",
          "text": [
            "False\n",
            "True\n"
          ],
          "name": "stdout"
        }
      ]
    },
    {
      "cell_type": "markdown",
      "metadata": {
        "id": "U6uI6Rzt8gBk"
      },
      "source": [
        "## **Module 3.3 Control Flow**"
      ]
    },
    {
      "cell_type": "markdown",
      "metadata": {
        "id": "Ls9tHDRO8gBk"
      },
      "source": [
        "Now that we have boolean operators and expressions, we can finally implement the following function:\n",
        "\n",
        "$$ f(x)=   \\left\\{\n",
        "\\begin{array}{ll}\n",
        "      x^3 & x>0 \\\\\n",
        "      x^2+3x-2 & x<0 \\\\\n",
        "      9 & x=0 \\\\\n",
        "\\end{array} \n",
        "\\right.  $$\n",
        "\n",
        "In Python, there are the following main types of program flow statements:\n",
        "\n",
        "1. if\n",
        "\n",
        "2. else\n",
        "\n",
        "3. elif\n",
        "\n",
        "4. try - except"
      ]
    },
    {
      "cell_type": "markdown",
      "metadata": {
        "id": "gYTL_zkg8gBk"
      },
      "source": [
        "### If Statements\n",
        "\n",
        "Below is the general format of an if statement. The main parts are the `if` keyword to indicate a logic check, and then a boolean expression (or value) that follows.\n",
        "\n",
        "The syntax is very similar to the function declaration!\n",
        "\n",
        "```python\n",
        "if (True):\n",
        "    # ###\n",
        "    # The indented code executes\n",
        "    # ###\n",
        "### This is back to regular program flow\n",
        "```\n",
        "\n",
        "And here's an example of one in action:\n",
        "\n",
        "```python\n",
        "Input:\n",
        "x = 10\n",
        "y = 15\n",
        "\n",
        "if (x < y):\n",
        "  print(y)\n",
        "\n",
        "Output:\n",
        "15\n",
        "```"
      ]
    },
    {
      "cell_type": "markdown",
      "metadata": {
        "id": "KB1qeZQ28gBk"
      },
      "source": [
        "#### Problem 3.3.A\n",
        "\n",
        "In the code cell below...\n",
        "\n",
        "1. Create an if statement that checks if $a < b$, and prints out \"b is bigger!\" if that is true.\n",
        "\n",
        "2. Add another if statement that checks if $a > b$, and prints out \"a is bigger!\" if that is true.\n",
        "\n",
        "3. Add another if statement that checks if $a = b$, and prints out \"a equals b!\" if that is true.\n",
        "\n",
        "3. Switch around the values of `a` and `b` to see how the program behaves!"
      ]
    },
    {
      "cell_type": "code",
      "metadata": {
        "id": "zSC6llD28gBk",
        "colab": {
          "base_uri": "https://localhost:8080/"
        },
        "outputId": "42c8f3c9-83e2-44c5-a094-17e23d014c69"
      },
      "source": [
        "a = 7\n",
        "b = 20\n",
        "\n",
        "### Solution Goes Here:\n",
        "\n",
        "if (a < b):\n",
        "  print(\"b is bigger!\")\n",
        "\n",
        "if (a > b):\n",
        "  print(\"a is bigger!\")\n",
        "\n",
        "if (a == b):\n",
        "  print(\"a equals b!\")"
      ],
      "execution_count": 87,
      "outputs": [
        {
          "output_type": "stream",
          "text": [
            "b is bigger!\n"
          ],
          "name": "stdout"
        }
      ]
    },
    {
      "cell_type": "markdown",
      "metadata": {
        "id": "z6S_rcSs8gBk"
      },
      "source": [
        "### Else Statements\n",
        "\n",
        "In Python, else statements execute if the previous logical statement is skipped over when it evaluates `False`. It has to directly follow either an `if` or `elif` statement.\n",
        "\n",
        "Below is the general format of an `if`-`else` flow in Python.\n",
        "\n",
        "```python\n",
        "if (True):\n",
        "    # ###\n",
        "    # If argument above is True, this code evaluates\n",
        "    # ###\n",
        "else:\n",
        "    # ###\n",
        "    # If argument above is False, this code evaluates\n",
        "    # ###\n",
        "```"
      ]
    },
    {
      "cell_type": "markdown",
      "metadata": {
        "id": "_DbvleeJ8gBk"
      },
      "source": [
        "#### Problem 3.3.B\n",
        "\n",
        "In one code cell, create the following if-else loop:\n",
        "\n",
        "1. An if statement that checks if $a > b$\n",
        "\n",
        " * If True, print out \"Running Code Block 1\"\n",
        " * Also, print out $(a+b)^2$\n",
        " \n",
        "2. An else statement that evaluates if the above is false.\n",
        "\n",
        " * In the indented area, print out \"Running Code Block 2\"\n",
        " * Also, print out $(b-a)^3$\n",
        " \n",
        "3. Change up a and b to see how the flow works!"
      ]
    },
    {
      "cell_type": "code",
      "metadata": {
        "id": "tz3-Cv8W8gBl",
        "colab": {
          "base_uri": "https://localhost:8080/"
        },
        "outputId": "ad964f2f-bac4-4784-9154-ce0769ab0b45"
      },
      "source": [
        "a = 10\n",
        "b = 15\n",
        "\n",
        "### Solution Goes Here:\n",
        "\n",
        "if (a > b):\n",
        "  print(\"Running Code Block 1\")\n",
        "  print((a+b)**2)\n",
        "else:\n",
        "  print(\"Running Code Block 2\")\n",
        "  print((b-a)**3)\n"
      ],
      "execution_count": 89,
      "outputs": [
        {
          "output_type": "stream",
          "text": [
            "Running Code Block 2\n",
            "125\n"
          ],
          "name": "stdout"
        }
      ]
    },
    {
      "cell_type": "markdown",
      "metadata": {
        "id": "cioYwepz8gBl"
      },
      "source": [
        "### If - Elif Statement Overview\n",
        "\n",
        "In Python, elif statements combine the functionality of an if and else (get it, elif!) statement into one. Elif statements evaluate in Python when the logical statement above is skipped, but it also has a logic check of it's own!\n",
        "\n",
        "You do an elif statement when you want to logic checks in a row, but to only run it when the first one is False.\n",
        "\n",
        "Tip: You can always nest if statements when you want to execute some code when both are True!\n",
        "\n",
        "Here's the general outline of an if-elif-else program flow in Python:\n",
        "\n",
        "```python\n",
        "if (True):\n",
        "    # ###\n",
        "    # If argument above is True, this code evaluates\n",
        "    # ###\n",
        "elif (True):\n",
        "    # ###\n",
        "    # If first argument is not True, and second argument True, this code evaluates\n",
        "    # ###\n",
        "else:\n",
        "    # ###\n",
        "    # If all arguments above False, this code block evaluates\n",
        "    # ###\n",
        "```"
      ]
    },
    {
      "cell_type": "markdown",
      "metadata": {
        "id": "ru8Vpvpr8gBl"
      },
      "source": [
        "#### Problem 3.3.C\n",
        "\n",
        "In one code cell, create the following if-elif-else flow:\n",
        "\n",
        "1. An if statement that checks if $a > b$\n",
        " * Print out \"A is greater than B\"\n",
        "\n",
        "2. An elif statement that checks if $a < b$\n",
        "\n",
        " * Print out \"B is greater than A\"\n",
        " \n",
        "3. An else statement\n",
        "\n",
        " * Print out \"A equals B\""
      ]
    },
    {
      "cell_type": "code",
      "metadata": {
        "id": "6-UxJy6o8gBl",
        "colab": {
          "base_uri": "https://localhost:8080/"
        },
        "outputId": "2507c4bf-341a-474f-920f-ae95f2faadc2"
      },
      "source": [
        "a = 7\n",
        "b = 9\n",
        "\n",
        "### Solution Goes Here:\n",
        "\n",
        "if (a > b):\n",
        "  print(\"a is greater than b\")\n",
        "elif (a < b):\n",
        "  print(\"b is greater than a\")\n",
        "else:\n",
        "  print(\"a equals b\")\n"
      ],
      "execution_count": 92,
      "outputs": [
        {
          "output_type": "stream",
          "text": [
            "b is greater than a\n"
          ],
          "name": "stdout"
        }
      ]
    },
    {
      "cell_type": "markdown",
      "metadata": {
        "id": "mPoEbwER8gBl"
      },
      "source": [
        "### Try - Except Statement Overview\n",
        "\n",
        "In Python, you can use a try-except flow for when you think your program is likely to toss an error when executing. A common case is when you think your program may divide by zero, and you don't want the entire program to error out!\n",
        "\n",
        "Remember to be specific with the error you want to raise! You don't want to suppress error messages for anything that goes wrong in your program!\n",
        "\n",
        "```python\n",
        "try:\n",
        "    # ###\n",
        "    # Try to run this code\n",
        "    # ###\n",
        "except Error:\n",
        "    # ###\n",
        "    # How an error is handled if raised\n",
        "    # ###\n",
        "```\n",
        "\n",
        "I'm just going to provide an example below! If we try to divide by zero, this happens:"
      ]
    },
    {
      "cell_type": "code",
      "metadata": {
        "id": "aVzsWhcp8gBm",
        "colab": {
          "base_uri": "https://localhost:8080/",
          "height": 215
        },
        "outputId": "7d12ca11-fe3b-4fb7-b77c-dcd2902f67b5"
      },
      "source": [
        "print(\"This runs!\")\n",
        "5/0\n",
        "print(\"Does this run?\")"
      ],
      "execution_count": 94,
      "outputs": [
        {
          "output_type": "stream",
          "text": [
            "This runs!\n"
          ],
          "name": "stdout"
        },
        {
          "output_type": "error",
          "ename": "ZeroDivisionError",
          "evalue": "ignored",
          "traceback": [
            "\u001b[0;31m---------------------------------------------------------------------------\u001b[0m",
            "\u001b[0;31mZeroDivisionError\u001b[0m                         Traceback (most recent call last)",
            "\u001b[0;32m<ipython-input-94-d3529ce6a34d>\u001b[0m in \u001b[0;36m<module>\u001b[0;34m()\u001b[0m\n\u001b[1;32m      1\u001b[0m \u001b[0mprint\u001b[0m\u001b[0;34m(\u001b[0m\u001b[0;34m\"This runs!\"\u001b[0m\u001b[0;34m)\u001b[0m\u001b[0;34m\u001b[0m\u001b[0;34m\u001b[0m\u001b[0m\n\u001b[0;32m----> 2\u001b[0;31m \u001b[0;36m5\u001b[0m\u001b[0;34m/\u001b[0m\u001b[0;36m0\u001b[0m\u001b[0;34m\u001b[0m\u001b[0;34m\u001b[0m\u001b[0m\n\u001b[0m\u001b[1;32m      3\u001b[0m \u001b[0mprint\u001b[0m\u001b[0;34m(\u001b[0m\u001b[0;34m\"Does this run?\"\u001b[0m\u001b[0;34m)\u001b[0m\u001b[0;34m\u001b[0m\u001b[0;34m\u001b[0m\u001b[0m\n",
            "\u001b[0;31mZeroDivisionError\u001b[0m: division by zero"
          ]
        }
      ]
    },
    {
      "cell_type": "markdown",
      "metadata": {
        "id": "kTMqZjNF8gBm"
      },
      "source": [
        "The program errors out and completely stops! No more of the program will run.\n",
        "\n",
        "We can keep everything going smooth with the following try-except flow:"
      ]
    },
    {
      "cell_type": "code",
      "metadata": {
        "id": "mOnBYyJq8gBm",
        "colab": {
          "base_uri": "https://localhost:8080/"
        },
        "outputId": "18ad1b99-9335-4c1b-d389-62263466151f"
      },
      "source": [
        "print(\"Part A Runs\")\n",
        "try:\n",
        "    5/2\n",
        "except ZeroDivisionError:\n",
        "    print(\"Error Suppressed\")\n",
        "print(\"Part B Runs\")"
      ],
      "execution_count": 96,
      "outputs": [
        {
          "output_type": "stream",
          "text": [
            "Part A Runs\n",
            "Part B Runs\n"
          ],
          "name": "stdout"
        }
      ]
    },
    {
      "cell_type": "markdown",
      "metadata": {
        "id": "0bkuE5bT8gBm"
      },
      "source": [
        "## **Module 3.4 Programming Loops**"
      ]
    },
    {
      "cell_type": "markdown",
      "metadata": {
        "id": "4xXYBUh38gBm"
      },
      "source": [
        "### For Loops\n",
        "\n",
        "For loops in Python allow us to run an iterative chunk of code across an array of items. This could be in a list, set, dictionary, or even just characters in a string.\n",
        "\n",
        "```python\n",
        "my_list = [1,2,3]\n",
        "\n",
        "for item in my_list:\n",
        "    # ###\n",
        "    # This code is executed on each item in my list\n",
        "    # ###\n",
        "```\n",
        "\n",
        "The placeholder `item` can be replaed with anything. For numbers, we often use `i` or `n` to denote significance.\n",
        "\n",
        "The for loop creates a local variable `item` that is able to be used during the execution of the single loop."
      ]
    },
    {
      "cell_type": "markdown",
      "metadata": {
        "id": "SBTCefEL8gBm"
      },
      "source": [
        "#### For Loop Example: Print Out All Items of a List\n"
      ]
    },
    {
      "cell_type": "code",
      "metadata": {
        "id": "3el1KxRg8gBm",
        "colab": {
          "base_uri": "https://localhost:8080/"
        },
        "outputId": "1acdaaa2-acfa-4926-ae3a-a8e891f53331"
      },
      "source": [
        "items = [\"Apples\", \"Grapes\", \"Avocados\", \"Cucumbers\"]\n",
        "\n",
        "for item in items:\n",
        "    print(item)"
      ],
      "execution_count": 97,
      "outputs": [
        {
          "output_type": "stream",
          "text": [
            "Apples\n",
            "Grapes\n",
            "Avocados\n",
            "Cucumbers\n"
          ],
          "name": "stdout"
        }
      ]
    },
    {
      "cell_type": "markdown",
      "metadata": {
        "id": "V-DUVf8g8gBn"
      },
      "source": [
        "#### For Loop Example: With Conditional Logic\n",
        "\n",
        "This one prints out all even numbers!"
      ]
    },
    {
      "cell_type": "code",
      "metadata": {
        "id": "OadL_cet8gBn",
        "colab": {
          "base_uri": "https://localhost:8080/"
        },
        "outputId": "ef989120-c800-47d5-f643-221214a48ad7"
      },
      "source": [
        "numbers = [0,1,2,3,4,5,6,7,8,9]\n",
        "\n",
        "for n in numbers:\n",
        "    if (n%2==0):\n",
        "        print(n)"
      ],
      "execution_count": 98,
      "outputs": [
        {
          "output_type": "stream",
          "text": [
            "0\n",
            "2\n",
            "4\n",
            "6\n",
            "8\n"
          ],
          "name": "stdout"
        }
      ]
    },
    {
      "cell_type": "markdown",
      "metadata": {
        "id": "R-PKmcvl8gBn"
      },
      "source": [
        "### While Loops\n",
        "\n",
        "While loops execute a block of code repeatedly until a conditional statement evaluates `False`\n",
        "\n",
        "Be careful to note code an infinite loop! There needs to be a stopping condition.\n",
        "\n",
        "```python\n",
        "while (True):\n",
        "    # ###\n",
        "    # This Block of Code Iterates\n",
        "    # ###\n",
        "    # And part of the code needs to progress towards or trigger a stopping condition\n",
        "    # ###\n",
        "else:\n",
        "    # ###\n",
        "    # Optional code block that evaluates upon stopping the loop\n",
        "    # ###\n",
        "```"
      ]
    },
    {
      "cell_type": "markdown",
      "metadata": {
        "id": "NO2HedOc8gBn"
      },
      "source": [
        "#### While Loop Example: Countdown!"
      ]
    },
    {
      "cell_type": "code",
      "metadata": {
        "id": "Zjb1nLR18gBn",
        "colab": {
          "base_uri": "https://localhost:8080/"
        },
        "collapsed": true,
        "outputId": "84f0a1f4-f12f-40c2-b12a-b07166534a94"
      },
      "source": [
        "i = 10\n",
        "\n",
        "while (i > 0):\n",
        "    print(i)\n",
        "    i -= 1 # Shortcut for: i = i - 1\n",
        "else:\n",
        "    print(\"Blast Off!\")"
      ],
      "execution_count": 102,
      "outputs": [
        {
          "output_type": "stream",
          "text": [
            "10\n",
            "9\n",
            "8\n",
            "7\n",
            "6\n",
            "5\n",
            "4\n",
            "3\n",
            "2\n",
            "1\n",
            "Blast Off!\n"
          ],
          "name": "stdout"
        }
      ]
    },
    {
      "cell_type": "markdown",
      "metadata": {
        "id": "GlmASFJo8gBo"
      },
      "source": [
        "#### While Loop Example: Shopping List\n",
        "\n",
        "Tip: If a list contains an element, it evaluates to True."
      ]
    },
    {
      "cell_type": "code",
      "metadata": {
        "id": "bXMvoOdo8gBo",
        "colab": {
          "base_uri": "https://localhost:8080/"
        },
        "outputId": "8cb8bc38-8537-4caa-91f4-444e53a927f3"
      },
      "source": [
        "shopping_list = [[\"Green Onion\",1.99], [\"Tortillas\",0.89], [\"Avocados\",3.85], [\"Black Beans\",3.99], [\"Paper Towels\",9.99]]\n",
        "subtotal = 0\n",
        "\n",
        "while (shopping_list):\n",
        "    item = shopping_list.pop()\n",
        "    subtotal += item[1]\n",
        "    print(\"Adding {} to your Amazon Shopping Cart.\".format(item[0]))\n",
        "else:\n",
        "    print(\"\\nReady to Checkout!\")\n",
        "    print(\"\\nYour subtotal is ${}\".format(subtotal))"
      ],
      "execution_count": 103,
      "outputs": [
        {
          "output_type": "stream",
          "text": [
            "Adding Paper Towels to your Amazon Shopping Cart.\n",
            "Adding Black Beans to your Amazon Shopping Cart.\n",
            "Adding Avocados to your Amazon Shopping Cart.\n",
            "Adding Tortillas to your Amazon Shopping Cart.\n",
            "Adding Green Onion to your Amazon Shopping Cart.\n",
            "\n",
            "Ready to Checkout!\n",
            "\n",
            "Your subtotal is $20.71\n"
          ],
          "name": "stdout"
        }
      ]
    },
    {
      "cell_type": "code",
      "metadata": {
        "id": "w21F505vwGkK",
        "outputId": "15eb9849-2dad-424c-d824-d656328a9e8a",
        "colab": {
          "base_uri": "https://localhost:8080/"
        }
      },
      "source": [
        "## Explaining Pop\n",
        "\n",
        "shopping_list = [[\"Green Onion\",1.99], [\"Tortillas\",0.89], [\"Avocados\",3.85], [\"Black Beans\",3.99], [\"Paper Towels\",9.99]]\n",
        "\n",
        "popped_item = shopping_list.pop()\n",
        "\n",
        "popped_item"
      ],
      "execution_count": 106,
      "outputs": [
        {
          "output_type": "execute_result",
          "data": {
            "text/plain": [
              "['Paper Towels', 9.99]"
            ]
          },
          "metadata": {
            "tags": []
          },
          "execution_count": 106
        }
      ]
    },
    {
      "cell_type": "markdown",
      "metadata": {
        "id": "hQVKAWq28gBo"
      },
      "source": [
        "## **Module 3.5 Lambda Functions**"
      ]
    },
    {
      "cell_type": "markdown",
      "metadata": {
        "id": "l0n-myMq8gBo"
      },
      "source": [
        "### **Lambda Overview**\n",
        "\n",
        "Lambda functions are a way to write functions in Python in one line, which will become very useful in our later data science uses and packages!\n",
        "\n",
        "Lambda functions have a few unique rules:\n",
        "\n",
        "* Return Single Value\n",
        "* Take any Number of Arguments\n",
        "\n",
        "#### Here's an example lambda function:\n",
        "\n",
        "```python\n",
        "sq_rt = lambda x: x**0.5\n",
        "```\n",
        "\n",
        "#### And this is what it would look like as a usual function:\n",
        "\n",
        "```python\n",
        "def sq_rt(x):\n",
        "    return x**0.5\n",
        "```"
      ]
    },
    {
      "cell_type": "markdown",
      "metadata": {
        "id": "8sYhgF1m8gBo"
      },
      "source": [
        "### **Where Lambda's Excel**\n",
        "\n",
        "Lambda functions are great when we're just implementing a mathematical function or one with limited logic!\n",
        "\n",
        "Let's shortcut the following function together, going back to percent change!\n",
        "\n",
        "$$\\Delta (x) = \\frac{x_1 - x_0}{x_0} = \\frac{x_1}{x_0} - 1$$\n",
        "\n",
        "\n"
      ]
    },
    {
      "cell_type": "markdown",
      "metadata": {
        "id": "uxY9tcz48gBo"
      },
      "source": [
        "#### **Practice 3.5.A**\n",
        "\n",
        "In one code cell, implement the percent change lambda, and store it in the variable `lm_pct_change`\n",
        "\n"
      ]
    },
    {
      "cell_type": "code",
      "metadata": {
        "id": "8zreE5lB8gBo",
        "colab": {
          "base_uri": "https://localhost:8080/"
        },
        "outputId": "dcc55da4-28b4-45b8-b789-55f52ee853e0"
      },
      "source": [
        "# Solution Goes Here:\n",
        "lm_pct_change = lambda x0, x1: (x1-x0)/x0\n",
        "\n",
        "lm_pct_change(100,105)"
      ],
      "execution_count": 107,
      "outputs": [
        {
          "output_type": "execute_result",
          "data": {
            "text/plain": [
              "0.05"
            ]
          },
          "metadata": {
            "tags": []
          },
          "execution_count": 107
        }
      ]
    },
    {
      "cell_type": "markdown",
      "metadata": {
        "id": "jakdL-uE8gBp"
      },
      "source": [
        "#### **Practice 3.5.B**\n",
        "\n",
        "In one code cell, implement lambda functionality within a function. This stops us from defining functions within functions!\n",
        "\n",
        "Let's create the standardization function—a common function in machine learning. It sets the maximum value of your data set to 1 and the minimum value to 0.\n",
        "\n",
        "I've already got a head start, but you'll see how useful it can be!"
      ]
    },
    {
      "cell_type": "code",
      "metadata": {
        "id": "YnA2xudG8gBp",
        "colab": {
          "base_uri": "https://localhost:8080/"
        },
        "outputId": "5b4768d6-32ab-4fb9-d9b7-51c4ea010f4a"
      },
      "source": [
        "def standardization(data):\n",
        "    max_val = max(data)\n",
        "    min_val = min(data)\n",
        "    print(max_val)\n",
        "    print(min_val)\n",
        "    stdrd = []\n",
        "    standardizer = lambda i: (i - min_val) / (max_val - min_val)\n",
        "    for i in data:\n",
        "      print(i)\n",
        "      stdrd.append(standardizer(i))\n",
        "    return stdrd\n",
        "\n",
        "\n",
        "sample_data = [-2.23, 5.78, 12.67, -8, -5, 6, 8, 15]\n",
        "\n",
        "sample_stdrd = standardization(sample_data)\n",
        "\n",
        "print(sample_stdrd)"
      ],
      "execution_count": 111,
      "outputs": [
        {
          "output_type": "stream",
          "text": [
            "15\n",
            "-8\n",
            "-2.23\n",
            "5.78\n",
            "12.67\n",
            "-8\n",
            "-5\n",
            "6\n",
            "8\n",
            "15\n",
            "[0.2508695652173913, 0.5991304347826087, 0.8986956521739131, 0.0, 0.13043478260869565, 0.6086956521739131, 0.6956521739130435, 1.0]\n"
          ],
          "name": "stdout"
        }
      ]
    },
    {
      "cell_type": "markdown",
      "metadata": {
        "id": "4u-3-vxg8gBp"
      },
      "source": [
        "## **Module 3 Further Reading**\n",
        "\n",
        "We covered a brief introduction to the program flow and control in Python! You have the basic building blocks, except for one more topic.\n",
        "\n",
        "To go more in depth, you can check out the articles on my website:\n",
        "\n",
        "* [Module 3: Functions and Program Flow](https://learningdata.io/)\n",
        " * [List Comprehension](https://learningdata.io/)\n",
        "\n",
        "## **What's Next?**\n",
        "\n",
        "1. PowerPoint: Data Science Workflows\n",
        "\n",
        "2. Notebook: Arrays, DataFrames, Indexing\n"
      ]
    },
    {
      "cell_type": "code",
      "metadata": {
        "id": "oir2DH3uNHEL"
      },
      "source": [
        ""
      ],
      "execution_count": null,
      "outputs": []
    }
  ]
}